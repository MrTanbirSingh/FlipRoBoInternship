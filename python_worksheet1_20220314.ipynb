{
 "cells": [
  {
   "cell_type": "markdown",
   "id": "75235873",
   "metadata": {},
   "source": [
    "### Factorial Programm"
   ]
  },
  {
   "cell_type": "code",
   "execution_count": 10,
   "id": "e7979c67",
   "metadata": {},
   "outputs": [
    {
     "data": {
      "text/plain": [
       "24"
      ]
     },
     "execution_count": 10,
     "metadata": {},
     "output_type": "execute_result"
    }
   ],
   "source": [
    "import math\n",
    "math.factorial(4)"
   ]
  },
  {
   "cell_type": "code",
   "execution_count": 11,
   "id": "e59906f2",
   "metadata": {},
   "outputs": [
    {
     "name": "stdout",
     "output_type": "stream",
     "text": [
      "Enter Value : 3\n"
     ]
    },
    {
     "data": {
      "text/plain": [
       "6"
      ]
     },
     "execution_count": 11,
     "metadata": {},
     "output_type": "execute_result"
    }
   ],
   "source": [
    "input_val = int(input(\"Enter Value : \"))\n",
    "result = 1\n",
    "for val in range(1, input_val + 1):\n",
    "    result = result * val      \n",
    "    \n",
    "result"
   ]
  },
  {
   "cell_type": "markdown",
   "id": "12fde6bc",
   "metadata": {},
   "source": [
    "  "
   ]
  },
  {
   "cell_type": "markdown",
   "id": "55e5777d",
   "metadata": {},
   "source": [
    "   "
   ]
  },
  {
   "cell_type": "markdown",
   "id": "747c4763",
   "metadata": {},
   "source": [
    "### Prime or Composite"
   ]
  },
  {
   "cell_type": "code",
   "execution_count": 58,
   "id": "acdb1a34",
   "metadata": {},
   "outputs": [
    {
     "name": "stdout",
     "output_type": "stream",
     "text": [
      "Enter Value : 12\n",
      "12 is Composite\n"
     ]
    }
   ],
   "source": [
    "input_val = int(input('Enter Value : '))\n",
    "\n",
    "for val in range(2, input_val + 1):\n",
    "\n",
    "    if input_val % val == 1 or input_val == 1 or input_val == 2 :\n",
    "        print(f'{input_val} is Prime')\n",
    "        break\n",
    "\n",
    "    elif input_val < 0 :\n",
    "        print('Enter value greater than --> 0')\n",
    "        break\n",
    "\n",
    "    else:\n",
    "        print(f'{input_val} is Composite')\n",
    "        break\n"
   ]
  },
  {
   "cell_type": "markdown",
   "id": "266c2fb1",
   "metadata": {},
   "source": [
    "   "
   ]
  },
  {
   "cell_type": "markdown",
   "id": "aa770fc1",
   "metadata": {},
   "source": [
    "  "
   ]
  },
  {
   "cell_type": "markdown",
   "id": "2c0d1bc7",
   "metadata": {},
   "source": [
    "## Palindrome "
   ]
  },
  {
   "cell_type": "code",
   "execution_count": 13,
   "id": "3c520744",
   "metadata": {},
   "outputs": [
    {
     "name": "stdout",
     "output_type": "stream",
     "text": [
      "Enter Value : tannat\n",
      "tannat is Palindrom\n"
     ]
    }
   ],
   "source": [
    "input_val = input('Enter Value : ')\n",
    "\n",
    "if input_val == input_val[::-1]:\n",
    "    print(f\"{input_val} is Palindrom\")\n",
    "    \n",
    "else:\n",
    "    print(f'{input_val} is not Palindrom')"
   ]
  },
  {
   "cell_type": "code",
   "execution_count": 10,
   "id": "12ebbc34",
   "metadata": {},
   "outputs": [
    {
     "name": "stdout",
     "output_type": "stream",
     "text": [
      "Enter Values : 123\n",
      "Not Palindrome\n"
     ]
    }
   ],
   "source": [
    "input_val = input('Enter Values : ')\n",
    "result = print('Palindrome') if input_val == input_val[::-1] else print('Not Palindrome')"
   ]
  },
  {
   "cell_type": "markdown",
   "id": "e5ac43ee",
   "metadata": {},
   "source": [
    " "
   ]
  },
  {
   "cell_type": "markdown",
   "id": "eaa85f77",
   "metadata": {},
   "source": [
    " "
   ]
  },
  {
   "cell_type": "markdown",
   "id": "0238a7ad",
   "metadata": {},
   "source": [
    "## Right Angle Triangle"
   ]
  },
  {
   "cell_type": "code",
   "execution_count": 27,
   "id": "cf19fe9b",
   "metadata": {},
   "outputs": [
    {
     "name": "stdout",
     "output_type": "stream",
     "text": [
      "Please select the options :\n",
      "1)Hypotenus 2)Opposite Side 3)Adjacent\n",
      "1\n",
      "Enter Adjacent 4\n",
      "Enter Opposide Side : 3\n",
      "\n",
      "Hypotenus is :  5.0 cm\n"
     ]
    }
   ],
   "source": [
    "input_val = input('Please select the options :\\n1)Hypotenus 2)Opposite Side 3)Adjacent\\n')\n",
    "if input_val == '1':\n",
    "    print('\\nHypotenus is --> : ', (int(input(\"Enter Adjacent \"))**2 + int(input(\"Enter Opposide Side : \"))**2)**0.5,'cm')\n",
    "\n",
    "elif input_val == '2':\n",
    "    print('\\nAdjacent is --> : ', (int(input(\"Enter Hypotenus\"))**2 - int(input(\"Enter Opposite Side : \"))**2)**0.5,'cm')\n",
    "\n",
    "elif input_val == '3':\n",
    "    print('\\nAdjacent is --> : ', (int(input(\"Enter Hypotenus\"))**2 - int(input(\"Enter Adjacent : \"))**2)**0.5,'cm')\n",
    "    \n",
    "else:\n",
    "    print('\\nPlease enter valid input')"
   ]
  },
  {
   "cell_type": "markdown",
   "id": "c9c188f9",
   "metadata": {},
   "source": [
    "  "
   ]
  },
  {
   "cell_type": "markdown",
   "id": "5b1070df",
   "metadata": {},
   "source": [
    " "
   ]
  },
  {
   "cell_type": "markdown",
   "id": "68fd30cb",
   "metadata": {},
   "source": [
    "## Frequency of each of the characters"
   ]
  },
  {
   "cell_type": "code",
   "execution_count": 24,
   "id": "da4c8ccf",
   "metadata": {},
   "outputs": [
    {
     "name": "stdout",
     "output_type": "stream",
     "text": [
      "charachers are :\n",
      " {'T': 1, 'a': 1, 'n': 2, 'b': 1, 'i': 2, 'r': 1, 'S': 1, 'g': 1, 'h': 1}\n"
     ]
    }
   ],
   "source": [
    "\n",
    "input_val = \"TanbirSingh\"\n",
    "  \n",
    "dict_count = {}\n",
    "  \n",
    "for i in input_val:\n",
    "    if i in dict_count:\n",
    "        dict_count[i] += 1\n",
    "    else:\n",
    "        dict_count[i] = 1\n",
    "\n",
    "print (\"charachers are :\\n \" +  str(dict_count))"
   ]
  },
  {
   "cell_type": "code",
   "execution_count": null,
   "id": "b1d33edd",
   "metadata": {},
   "outputs": [],
   "source": []
  },
  {
   "cell_type": "code",
   "execution_count": null,
   "id": "e1446aeb",
   "metadata": {},
   "outputs": [],
   "source": []
  },
  {
   "cell_type": "code",
   "execution_count": null,
   "id": "0909852f",
   "metadata": {},
   "outputs": [],
   "source": []
  },
  {
   "cell_type": "code",
   "execution_count": null,
   "id": "2dc458c0",
   "metadata": {},
   "outputs": [],
   "source": []
  }
 ],
 "metadata": {
  "kernelspec": {
   "display_name": "Python 3",
   "language": "python",
   "name": "python3"
  },
  "language_info": {
   "codemirror_mode": {
    "name": "ipython",
    "version": 3
   },
   "file_extension": ".py",
   "mimetype": "text/x-python",
   "name": "python",
   "nbconvert_exporter": "python",
   "pygments_lexer": "ipython3",
   "version": "3.8.8"
  }
 },
 "nbformat": 4,
 "nbformat_minor": 5
}
