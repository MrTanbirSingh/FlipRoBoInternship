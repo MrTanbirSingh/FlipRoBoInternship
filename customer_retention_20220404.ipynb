{
 "cells": [
  {
   "cell_type": "markdown",
   "id": "2e0d2f5a",
   "metadata": {},
   "source": [
    "# Customer Retention"
   ]
  },
  {
   "cell_type": "markdown",
   "id": "ScuzfmvyCNun",
   "metadata": {
    "id": "ScuzfmvyCNun"
   },
   "source": [
    "### E-retail factors for customer activation and retention: A case study from Indian e-commerce customers\n",
    "\n",
    "Customer satisfaction has emerged as one of the most important factors that guarantee the success of online store; it has been posited as a key stimulant of purchase, repurchase intentions and customer loyalty. A comprehensive review of the literature, theories and models have been carried out to propose the models for customer activation and customer retention. Five major factors that contributed to the success of an e-commerce store have been identified as: service quality, system quality, information quality, trust and net benefit. The research furthermore investigated the factors that influence the online customers repeat purchase intention. The combination of both utilitarian value and hedonistic values are needed to affect the repeat purchase intention (loyalty) positively. The data is collected from the Indian online shoppers. Results indicate the e-retail success factors, which are very much critical for customer satisfaction.\n",
    "\n",
    "\n",
    "Note : Data Scientists have to apply their analytical skills to give findings and conclusions in detailed data analysis written"
   ]
  },
  {
   "cell_type": "code",
   "execution_count": 70,
   "id": "3_NP-MVvGPKc",
   "metadata": {
    "id": "3_NP-MVvGPKc"
   },
   "outputs": [],
   "source": [
    "#Importing Required Libraries\n",
    "\n",
    "import re #REGULAR EXPRESSION\n",
    "import pandas as pd \n",
    "import numpy as np\n",
    "import matplotlib.pyplot as plt\n",
    "import seaborn as sns\n",
    "import math\n",
    "\n",
    "import warnings\n",
    "warnings.filterwarnings('ignore')"
   ]
  },
  {
   "cell_type": "markdown",
   "id": "PKH3BavwJGDM",
   "metadata": {
    "id": "PKH3BavwJGDM"
   },
   "source": [
    "## Framing the Problem\n"
   ]
  },
  {
   "cell_type": "markdown",
   "id": "wR9rQ1KNJKat",
   "metadata": {
    "id": "wR9rQ1KNJKat"
   },
   "source": [
    "Five major factors that contributed to the success of an e-commerce store have been identified as: </br>**service quality, system quality, information quality, trust and net benefit**.</br></br> The research furthermore investigated the factors that influence the online customers repeat purchase intention.</br> The combination of both **utilitarian value** and **hedonistic values** are needed to affect the repeat purchase intention (loyalty) positively.</br> The data is collected from the Indian online shoppers.</br> Results indicate the e-retail success factors, which are very much **critical for customer satisfaction**. </br>Be careful: There are two sheets (one is detailed) and second is encoded in the excel file. </br>You may use any of them by extracting in separate excel sheet. The number of column(s) is more than 47. Read the column header carefully. </br>Note : Data Scientists have to apply their analytical skills to give findings and conclusions in detailed data analysis written in jupyter notebook . Only data analysis is required."
   ]
  },
  {
   "cell_type": "markdown",
   "id": "_WYa-Zf6FwBT",
   "metadata": {
    "id": "_WYa-Zf6FwBT"
   },
   "source": [
    " "
   ]
  },
  {
   "cell_type": "markdown",
   "id": "62953de2",
   "metadata": {},
   "source": [
    " "
   ]
  },
  {
   "cell_type": "code",
   "execution_count": 12,
   "id": "3e36c552",
   "metadata": {
    "colab": {
     "base_uri": "https://localhost:8080/",
     "height": 432
    },
    "id": "3e36c552",
    "outputId": "26ad2fd1-5de0-404f-d100-636db6c011c0"
   },
   "outputs": [],
   "source": [
    "#Accessing the sheets from excel file\n",
    "\n",
    "questionare = pd.read_excel(r'customer_retention_20220404.xlsx',engine='openpyxl', sheet_name = 2)\n",
    "code_table = pd.read_excel(r'customer_retention_20220404.xlsx',engine='openpyxl', sheet_name = 6)\n",
    "data = pd.read_excel(r'customer_retention_20220404.xlsx',engine='openpyxl', sheet_name = 'codedsheet')\n",
    "data.columns = data.columns.str.rstrip()\n",
    "\n",
    "data_sheet = pd.read_excel(r'customer_retention_20220404.xlsx',engine='openpyxl', sheet_name = 0)\n",
    "data_sheet.columns = data_sheet.columns.str.rstrip()"
   ]
  },
  {
   "cell_type": "markdown",
   "id": "0b0982d1",
   "metadata": {},
   "source": [
    "**We have 269 peoples data**"
   ]
  },
  {
   "cell_type": "code",
   "execution_count": 13,
   "id": "0c03ddad",
   "metadata": {},
   "outputs": [
    {
     "data": {
      "text/plain": [
       "(269, 71)"
      ]
     },
     "execution_count": 13,
     "metadata": {},
     "output_type": "execute_result"
    }
   ],
   "source": [
    "data.shape"
   ]
  },
  {
   "cell_type": "markdown",
   "id": "f12d9264",
   "metadata": {},
   "source": [
    "  "
   ]
  },
  {
   "cell_type": "code",
   "execution_count": 59,
   "id": "95505cb1",
   "metadata": {
    "id": "95505cb1",
    "outputId": "9e66aaeb-d966-4d6a-db6b-48124afcb073"
   },
   "outputs": [
    {
     "data": {
      "text/html": [
       "<div>\n",
       "<style scoped>\n",
       "    .dataframe tbody tr th:only-of-type {\n",
       "        vertical-align: middle;\n",
       "    }\n",
       "\n",
       "    .dataframe tbody tr th {\n",
       "        vertical-align: top;\n",
       "    }\n",
       "\n",
       "    .dataframe thead th {\n",
       "        text-align: right;\n",
       "    }\n",
       "</style>\n",
       "<table border=\"1\" class=\"dataframe\">\n",
       "  <thead>\n",
       "    <tr style=\"text-align: right;\">\n",
       "      <th></th>\n",
       "      <th>Questions</th>\n",
       "      <th>Code</th>\n",
       "    </tr>\n",
       "  </thead>\n",
       "  <tbody>\n",
       "    <tr>\n",
       "      <th>0</th>\n",
       "      <td>1Gender of respondent</td>\n",
       "      <td>other</td>\n",
       "    </tr>\n",
       "    <tr>\n",
       "      <th>1</th>\n",
       "      <td>2 How old are you?</td>\n",
       "      <td>other</td>\n",
       "    </tr>\n",
       "    <tr>\n",
       "      <th>2</th>\n",
       "      <td>3 Which city do you shop online from?</td>\n",
       "      <td>other</td>\n",
       "    </tr>\n",
       "    <tr>\n",
       "      <th>3</th>\n",
       "      <td>4 What is the Pin Code of where you shop onlin...</td>\n",
       "      <td>other</td>\n",
       "    </tr>\n",
       "    <tr>\n",
       "      <th>4</th>\n",
       "      <td>5 Since How Long You are Shopping Online ?</td>\n",
       "      <td>other</td>\n",
       "    </tr>\n",
       "    <tr>\n",
       "      <th>...</th>\n",
       "      <td>...</td>\n",
       "      <td>...</td>\n",
       "    </tr>\n",
       "    <tr>\n",
       "      <th>65</th>\n",
       "      <td>Longer page loading time (promotion, sales per...</td>\n",
       "      <td>issue</td>\n",
       "    </tr>\n",
       "    <tr>\n",
       "      <th>66</th>\n",
       "      <td>Limited mode of payment on most products (prom...</td>\n",
       "      <td>issue</td>\n",
       "    </tr>\n",
       "    <tr>\n",
       "      <th>67</th>\n",
       "      <td>Longer delivery period</td>\n",
       "      <td>issue</td>\n",
       "    </tr>\n",
       "    <tr>\n",
       "      <th>68</th>\n",
       "      <td>Change in website/Application design</td>\n",
       "      <td>issue</td>\n",
       "    </tr>\n",
       "    <tr>\n",
       "      <th>69</th>\n",
       "      <td>Frequent disruption when moving from one page ...</td>\n",
       "      <td>issue</td>\n",
       "    </tr>\n",
       "  </tbody>\n",
       "</table>\n",
       "<p>70 rows × 2 columns</p>\n",
       "</div>"
      ],
      "text/plain": [
       "                                            Questions   Code\n",
       "0                               1Gender of respondent  other\n",
       "1                                  2 How old are you?  other\n",
       "2               3 Which city do you shop online from?  other\n",
       "3   4 What is the Pin Code of where you shop onlin...  other\n",
       "4          5 Since How Long You are Shopping Online ?  other\n",
       "..                                                ...    ...\n",
       "65  Longer page loading time (promotion, sales per...  issue\n",
       "66  Limited mode of payment on most products (prom...  issue\n",
       "67                             Longer delivery period  issue\n",
       "68               Change in website/Application design  issue\n",
       "69  Frequent disruption when moving from one page ...  issue\n",
       "\n",
       "[70 rows x 2 columns]"
      ]
     },
     "execution_count": 59,
     "metadata": {},
     "output_type": "execute_result"
    }
   ],
   "source": [
    "questionare['Question'] = questionare.Question.str.rstrip()\n",
    "questionare.loc[questionare['Code'] == 'UB']\n",
    "\n",
    "new_questionaire = pd.read_excel(r'customer_retention_20220404.xlsx',engine='openpyxl', sheet_name = 5)\n",
    "new_questionaire.Questions = new_questionaire.Questions.str.rstrip()\n",
    "new_questionaire"
   ]
  },
  {
   "cell_type": "markdown",
   "id": "6d7078ca",
   "metadata": {},
   "source": [
    "Data shows the most recommended e-commerce store is AMAZON"
   ]
  },
  {
   "cell_type": "code",
   "execution_count": 60,
   "id": "60b682de",
   "metadata": {},
   "outputs": [
    {
     "name": "stdout",
     "output_type": "stream",
     "text": [
      "Amazon.in       45.911950\n",
      "Flipkart.com    26.624738\n",
      "Myntra.com      15.932914\n",
      "Paytm.com        9.224319\n",
      "snapdeal.com     2.306080\n",
      "dtype: float64\n"
     ]
    },
    {
     "data": {
      "image/png": "[encoded data removed]",
      "text/plain": [
       "<Figure size 432x288 with 1 Axes>"
      ]
     },
     "metadata": {
      "needs_background": "light"
     },
     "output_type": "display_data"
    }
   ],
   "source": [
    "DM_df = pd.DataFrame({})\n",
    "\n",
    "for i in [data for data in new_questionaire[new_questionaire['Code'] == 'DM'].Questions]:\n",
    "    DM_df[i] =  data_sheet[i]\n",
    "    \n",
    "    \n",
    "counts = 0\n",
    "plot_dict = {}\n",
    "for cname in DM_df.iloc[:,4:].columns:\n",
    "    counts += 1\n",
    "    plot_list = []\n",
    "    for i in DM_df[cname]:\n",
    "        for j in i.split(','):\n",
    "            plot_list.append(j.lstrip())\n",
    "    plot_dict[str(counts)] = plot_list\n",
    "    \n",
    "    print(pd.Series(plot_dict[str(counts)]).value_counts(normalize=True)*100)\n",
    "    sns.countplot( pd.Series( plot_dict[str(counts)]).sort_values() )\n",
    "    plt.title(cname)\n",
    "    plt.tick_params(axis='x', rotation=20)\n",
    "    plt.show()"
   ]
  },
  {
   "cell_type": "markdown",
   "id": "7c53a0a6",
   "metadata": {},
   "source": [
    "# Amazon is most recommended site. \n",
    "# WHY?"
   ]
  },
  {
   "cell_type": "markdown",
   "id": "cb4108a2",
   "metadata": {},
   "source": [
    "To answer this we have to keep certain parameters in mind what makes these e-commerce stores "
   ]
  },
  {
   "cell_type": "markdown",
   "id": "220c8d1b",
   "metadata": {},
   "source": [
    "### Data have been Splited into the five major factor that contribute to the success of an e-commerce store"
   ]
  },
  {
   "cell_type": "markdown",
   "id": "42efb25d",
   "metadata": {},
   "source": [
    "# Five Major Factors"
   ]
  },
  {
   "cell_type": "code",
   "execution_count": 56,
   "id": "03791f6b",
   "metadata": {},
   "outputs": [
    {
     "data": {
      "text/html": [
       "<div>\n",
       "<style scoped>\n",
       "    .dataframe tbody tr th:only-of-type {\n",
       "        vertical-align: middle;\n",
       "    }\n",
       "\n",
       "    .dataframe tbody tr th {\n",
       "        vertical-align: top;\n",
       "    }\n",
       "\n",
       "    .dataframe thead th {\n",
       "        text-align: right;\n",
       "    }\n",
       "</style>\n",
       "<table border=\"1\" class=\"dataframe\">\n",
       "  <thead>\n",
       "    <tr style=\"text-align: right;\">\n",
       "      <th></th>\n",
       "      <th>Code_String</th>\n",
       "      <th>Code</th>\n",
       "    </tr>\n",
       "  </thead>\n",
       "  <tbody>\n",
       "    <tr>\n",
       "      <th>0</th>\n",
       "      <td>service quality</td>\n",
       "      <td>SQ</td>\n",
       "    </tr>\n",
       "    <tr>\n",
       "      <th>1</th>\n",
       "      <td>system quality</td>\n",
       "      <td>UI Q</td>\n",
       "    </tr>\n",
       "    <tr>\n",
       "      <th>2</th>\n",
       "      <td>information quality</td>\n",
       "      <td>PI</td>\n",
       "    </tr>\n",
       "    <tr>\n",
       "      <th>3</th>\n",
       "      <td>trust</td>\n",
       "      <td>T</td>\n",
       "    </tr>\n",
       "    <tr>\n",
       "      <th>4</th>\n",
       "      <td>net benefits</td>\n",
       "      <td>NB</td>\n",
       "    </tr>\n",
       "  </tbody>\n",
       "</table>\n",
       "</div>"
      ],
      "text/plain": [
       "           Code_String  Code\n",
       "0      service quality    SQ\n",
       "1       system quality  UI Q\n",
       "2  information quality    PI\n",
       "3                trust     T\n",
       "4         net benefits    NB"
      ]
     },
     "execution_count": 56,
     "metadata": {},
     "output_type": "execute_result"
    }
   ],
   "source": [
    "code_table.iloc[2:7,:].reset_index().drop([\"index\"], axis=1)"
   ]
  },
  {
   "cell_type": "markdown",
   "id": "67ca6437",
   "metadata": {},
   "source": [
    "# Exploratory Data Analysis"
   ]
  },
  {
   "cell_type": "markdown",
   "id": "d9012825",
   "metadata": {},
   "source": [
    "**Performing EDA on each Factor**"
   ]
  },
  {
   "cell_type": "code",
   "execution_count": 78,
   "id": "42d7e48c",
   "metadata": {},
   "outputs": [
    {
     "data": {
      "text/plain": [
       "1Gender of respondent                                                   0\n",
       "2 How old are you?                                                      0\n",
       "3 Which city do you shop online from?                                   0\n",
       "4 What is the Pin Code of where you shop online from?                   0\n",
       "5 Since How Long You are Shopping Online ?                              0\n",
       "                                                                       ..\n",
       "Longer delivery period                                                  0\n",
       "Change in website/Application design                                    0\n",
       "Frequent disruption when moving from one page to another                0\n",
       "Website is as efficient as before                                       0\n",
       "Which of the Indian online retailer would you recommend to a friend?    0\n",
       "Length: 71, dtype: int64"
      ]
     },
     "execution_count": 78,
     "metadata": {},
     "output_type": "execute_result"
    }
   ],
   "source": [
    "#Checking Null values\n",
    "data.isnull().sum()"
   ]
  },
  {
   "cell_type": "code",
   "execution_count": 77,
   "id": "ba4227ff",
   "metadata": {},
   "outputs": [],
   "source": [
    "for i in data.isnull().sum():\n",
    "    if i != 0:\n",
    "        print('Null Value')"
   ]
  },
  {
   "cell_type": "markdown",
   "id": "34222595",
   "metadata": {},
   "source": [
    "# 1) Service Quality"
   ]
  },
  {
   "cell_type": "code",
   "execution_count": 16,
   "id": "c4c65087",
   "metadata": {},
   "outputs": [],
   "source": [
    "SQ_df = pd.DataFrame({})\n",
    "\n",
    "for i in [data for data in new_questionaire[new_questionaire['Code'] == 'SQ'].Questions]:\n",
    "    SQ_df[i] =  data[i]"
   ]
  },
  {
   "cell_type": "code",
   "execution_count": 81,
   "id": "c3cd77e2",
   "metadata": {},
   "outputs": [
    {
     "data": {
      "text/html": [
       "<div>\n",
       "<style scoped>\n",
       "    .dataframe tbody tr th:only-of-type {\n",
       "        vertical-align: middle;\n",
       "    }\n",
       "\n",
       "    .dataframe tbody tr th {\n",
       "        vertical-align: top;\n",
       "    }\n",
       "\n",
       "    .dataframe thead th {\n",
       "        text-align: right;\n",
       "    }\n",
       "</style>\n",
       "<table border=\"1\" class=\"dataframe\">\n",
       "  <thead>\n",
       "    <tr style=\"text-align: right;\">\n",
       "      <th></th>\n",
       "      <th>29 Responsiveness, availability of several communication channels (email, online rep, twitter, phone etc.)</th>\n",
       "      <th>27 Empathy (readiness to assist with queries) towards the customers</th>\n",
       "      <th>33 Return and replacement policy of the e-tailer is important for purchase decision</th>\n",
       "    </tr>\n",
       "  </thead>\n",
       "  <tbody>\n",
       "    <tr>\n",
       "      <th>count</th>\n",
       "      <td>269.000000</td>\n",
       "      <td>269.000000</td>\n",
       "      <td>269.000000</td>\n",
       "    </tr>\n",
       "    <tr>\n",
       "      <th>mean</th>\n",
       "      <td>4.375465</td>\n",
       "      <td>4.464684</td>\n",
       "      <td>4.587361</td>\n",
       "    </tr>\n",
       "    <tr>\n",
       "      <th>std</th>\n",
       "      <td>0.916430</td>\n",
       "      <td>1.080551</td>\n",
       "      <td>0.831284</td>\n",
       "    </tr>\n",
       "    <tr>\n",
       "      <th>min</th>\n",
       "      <td>1.000000</td>\n",
       "      <td>1.000000</td>\n",
       "      <td>2.000000</td>\n",
       "    </tr>\n",
       "    <tr>\n",
       "      <th>25%</th>\n",
       "      <td>4.000000</td>\n",
       "      <td>4.000000</td>\n",
       "      <td>4.000000</td>\n",
       "    </tr>\n",
       "    <tr>\n",
       "      <th>50%</th>\n",
       "      <td>5.000000</td>\n",
       "      <td>5.000000</td>\n",
       "      <td>5.000000</td>\n",
       "    </tr>\n",
       "    <tr>\n",
       "      <th>75%</th>\n",
       "      <td>5.000000</td>\n",
       "      <td>5.000000</td>\n",
       "      <td>5.000000</td>\n",
       "    </tr>\n",
       "    <tr>\n",
       "      <th>max</th>\n",
       "      <td>5.000000</td>\n",
       "      <td>5.000000</td>\n",
       "      <td>5.000000</td>\n",
       "    </tr>\n",
       "  </tbody>\n",
       "</table>\n",
       "</div>"
      ],
      "text/plain": [
       "       29 Responsiveness, availability of several communication channels (email, online rep, twitter, phone etc.)  \\\n",
       "count                                         269.000000                                                            \n",
       "mean                                            4.375465                                                            \n",
       "std                                             0.916430                                                            \n",
       "min                                             1.000000                                                            \n",
       "25%                                             4.000000                                                            \n",
       "50%                                             5.000000                                                            \n",
       "75%                                             5.000000                                                            \n",
       "max                                             5.000000                                                            \n",
       "\n",
       "       27 Empathy (readiness to assist with queries) towards the customers  \\\n",
       "count                                         269.000000                     \n",
       "mean                                            4.464684                     \n",
       "std                                             1.080551                     \n",
       "min                                             1.000000                     \n",
       "25%                                             4.000000                     \n",
       "50%                                             5.000000                     \n",
       "75%                                             5.000000                     \n",
       "max                                             5.000000                     \n",
       "\n",
       "       33 Return and replacement policy of the e-tailer is important for purchase decision  \n",
       "count                                         269.000000                                    \n",
       "mean                                            4.587361                                    \n",
       "std                                             0.831284                                    \n",
       "min                                             2.000000                                    \n",
       "25%                                             4.000000                                    \n",
       "50%                                             5.000000                                    \n",
       "75%                                             5.000000                                    \n",
       "max                                             5.000000                                    "
      ]
     },
     "execution_count": 81,
     "metadata": {},
     "output_type": "execute_result"
    }
   ],
   "source": [
    "SQ_df.describe()"
   ]
  },
  {
   "cell_type": "markdown",
   "id": "a74ca78c",
   "metadata": {
    "id": "e7290580",
    "outputId": "3388bd28-b809-4978-bc27-fd761515594d"
   },
   "source": [
    "Data showes that the **Return and replacement policy** tends to have more weightage among other services e-commerce stores provide to the users."
   ]
  },
  {
   "cell_type": "code",
   "execution_count": 79,
   "id": "e6c68d6e",
   "metadata": {
    "id": "e6c68d6e"
   },
   "outputs": [
    {
     "name": "stdout",
     "output_type": "stream",
     "text": [
      "Weightage in percentage\n",
      " Amazon.in       49.896050\n",
      "Flipkart.com    33.679834\n",
      "Snapdeal.com    10.395010\n",
      "Myntra.com       6.029106\n",
      "dtype: float64\n"
     ]
    },
    {
     "data": {
      "image/png": "[encoded data removed]",
      "text/plain": [
       "<Figure size 432x288 with 1 Axes>"
      ]
     },
     "metadata": {
      "needs_background": "light"
     },
     "output_type": "display_data"
    },
    {
     "name": "stdout",
     "output_type": "stream",
     "text": [
      "Weightage in percentage\n",
      " Amazon.in       38.945578\n",
      "Flipkart.com    23.129252\n",
      "Myntra.com      18.877551\n",
      "Snapdeal        14.795918\n",
      "Paytm.com        4.251701\n",
      "dtype: float64\n"
     ]
    },
    {
     "data": {
      "image/png": "[encoded data removed]",
      "text/plain": [
       "<Figure size 432x288 with 1 Axes>"
      ]
     },
     "metadata": {
      "needs_background": "light"
     },
     "output_type": "display_data"
    },
    {
     "name": "stdout",
     "output_type": "stream",
     "text": [
      "Weightage in percentage\n",
      " Amazon.in       45.959596\n",
      "Flipkart.com    29.545455\n",
      "Paytm.com       14.646465\n",
      "Snapdeal.com     6.313131\n",
      "Myntra.com       3.535354\n",
      "dtype: float64\n"
     ]
    },
    {
     "data": {
      "image/png": "[encoded data removed]",
      "text/plain": [
       "<Figure size 432x288 with 1 Axes>"
      ]
     },
     "metadata": {
      "needs_background": "light"
     },
     "output_type": "display_data"
    }
   ],
   "source": [
    "counts = 0\n",
    "plot_dict = {}\n",
    "for cname in SQ_df.iloc[:,3:].columns:\n",
    "    counts += 1\n",
    "    plot_list = []\n",
    "    for i in SQ_df[cname]:\n",
    "        for j in i.split(','):\n",
    "            plot_list.append(j.lstrip())\n",
    "    plot_dict[str(counts)] = plot_list\n",
    "    \n",
    "    \n",
    "    print('Weightage in percentage\\n',pd.Series(plot_dict[str(counts)]).value_counts(normalize=True)*100)\n",
    "    sns.countplot(plot_dict[str(counts)])\n",
    "    plt.title(cname)\n",
    "#     plt.tick_params(axis='x', rotation=45)\n",
    "    plt.show()"
   ]
  },
  {
   "cell_type": "markdown",
   "id": "82bbf070",
   "metadata": {
    "id": "3475ebb7"
   },
   "source": [
    "# 2) System Quality"
   ]
  },
  {
   "cell_type": "code",
   "execution_count": 25,
   "id": "4356d70b",
   "metadata": {
    "id": "4356d70b"
   },
   "outputs": [],
   "source": [
    "UI_Q_df = pd.DataFrame({})\n",
    "\n",
    "for i in [data for data in new_questionaire[new_questionaire['Code'] == 'UI Q'].Questions]:\n",
    "    UI_Q_df[i] =  data[i]"
   ]
  },
  {
   "cell_type": "code",
   "execution_count": 26,
   "id": "004bf413",
   "metadata": {
    "id": "004bf413"
   },
   "outputs": [
    {
     "data": {
      "text/html": [
       "<div>\n",
       "<style scoped>\n",
       "    .dataframe tbody tr th:only-of-type {\n",
       "        vertical-align: middle;\n",
       "    }\n",
       "\n",
       "    .dataframe tbody tr th {\n",
       "        vertical-align: top;\n",
       "    }\n",
       "\n",
       "    .dataframe thead th {\n",
       "        text-align: right;\n",
       "    }\n",
       "</style>\n",
       "<table border=\"1\" class=\"dataframe\">\n",
       "  <thead>\n",
       "    <tr style=\"text-align: right;\">\n",
       "      <th></th>\n",
       "      <th>18 The content on the website must be easy to read and understand</th>\n",
       "      <th>22 Ease of navigation in website</th>\n",
       "      <th>23 Loading and processing speed</th>\n",
       "      <th>24 User friendly Interface of the website</th>\n",
       "      <th>25 Convenient Payment methods</th>\n",
       "      <th>36 User derive satisfaction while shopping on a good quality website or application</th>\n",
       "    </tr>\n",
       "  </thead>\n",
       "  <tbody>\n",
       "    <tr>\n",
       "      <th>count</th>\n",
       "      <td>269.000000</td>\n",
       "      <td>269.000000</td>\n",
       "      <td>269.000000</td>\n",
       "      <td>269.000000</td>\n",
       "      <td>269.000000</td>\n",
       "      <td>269.000000</td>\n",
       "    </tr>\n",
       "    <tr>\n",
       "      <th>mean</th>\n",
       "      <td>4.382900</td>\n",
       "      <td>4.286245</td>\n",
       "      <td>4.115242</td>\n",
       "      <td>4.394052</td>\n",
       "      <td>4.368030</td>\n",
       "      <td>4.591078</td>\n",
       "    </tr>\n",
       "    <tr>\n",
       "      <th>std</th>\n",
       "      <td>1.046603</td>\n",
       "      <td>1.059708</td>\n",
       "      <td>1.064045</td>\n",
       "      <td>1.162586</td>\n",
       "      <td>0.951364</td>\n",
       "      <td>0.649393</td>\n",
       "    </tr>\n",
       "    <tr>\n",
       "      <th>min</th>\n",
       "      <td>1.000000</td>\n",
       "      <td>1.000000</td>\n",
       "      <td>1.000000</td>\n",
       "      <td>1.000000</td>\n",
       "      <td>2.000000</td>\n",
       "      <td>2.000000</td>\n",
       "    </tr>\n",
       "    <tr>\n",
       "      <th>25%</th>\n",
       "      <td>4.000000</td>\n",
       "      <td>4.000000</td>\n",
       "      <td>4.000000</td>\n",
       "      <td>4.000000</td>\n",
       "      <td>4.000000</td>\n",
       "      <td>4.000000</td>\n",
       "    </tr>\n",
       "    <tr>\n",
       "      <th>50%</th>\n",
       "      <td>5.000000</td>\n",
       "      <td>5.000000</td>\n",
       "      <td>4.000000</td>\n",
       "      <td>5.000000</td>\n",
       "      <td>5.000000</td>\n",
       "      <td>5.000000</td>\n",
       "    </tr>\n",
       "    <tr>\n",
       "      <th>75%</th>\n",
       "      <td>5.000000</td>\n",
       "      <td>5.000000</td>\n",
       "      <td>5.000000</td>\n",
       "      <td>5.000000</td>\n",
       "      <td>5.000000</td>\n",
       "      <td>5.000000</td>\n",
       "    </tr>\n",
       "    <tr>\n",
       "      <th>max</th>\n",
       "      <td>5.000000</td>\n",
       "      <td>5.000000</td>\n",
       "      <td>5.000000</td>\n",
       "      <td>5.000000</td>\n",
       "      <td>5.000000</td>\n",
       "      <td>5.000000</td>\n",
       "    </tr>\n",
       "  </tbody>\n",
       "</table>\n",
       "</div>"
      ],
      "text/plain": [
       "       18 The content on the website must be easy to read and understand  \\\n",
       "count                                         269.000000                   \n",
       "mean                                            4.382900                   \n",
       "std                                             1.046603                   \n",
       "min                                             1.000000                   \n",
       "25%                                             4.000000                   \n",
       "50%                                             5.000000                   \n",
       "75%                                             5.000000                   \n",
       "max                                             5.000000                   \n",
       "\n",
       "       22 Ease of navigation in website  23 Loading and processing speed  \\\n",
       "count                        269.000000                       269.000000   \n",
       "mean                           4.286245                         4.115242   \n",
       "std                            1.059708                         1.064045   \n",
       "min                            1.000000                         1.000000   \n",
       "25%                            4.000000                         4.000000   \n",
       "50%                            5.000000                         4.000000   \n",
       "75%                            5.000000                         5.000000   \n",
       "max                            5.000000                         5.000000   \n",
       "\n",
       "       24 User friendly Interface of the website  \\\n",
       "count                                 269.000000   \n",
       "mean                                    4.394052   \n",
       "std                                     1.162586   \n",
       "min                                     1.000000   \n",
       "25%                                     4.000000   \n",
       "50%                                     5.000000   \n",
       "75%                                     5.000000   \n",
       "max                                     5.000000   \n",
       "\n",
       "       25 Convenient Payment methods  \\\n",
       "count                     269.000000   \n",
       "mean                        4.368030   \n",
       "std                         0.951364   \n",
       "min                         2.000000   \n",
       "25%                         4.000000   \n",
       "50%                         5.000000   \n",
       "75%                         5.000000   \n",
       "max                         5.000000   \n",
       "\n",
       "       36 User derive satisfaction while shopping on a good quality website or application  \n",
       "count                                         269.000000                                    \n",
       "mean                                            4.591078                                    \n",
       "std                                             0.649393                                    \n",
       "min                                             2.000000                                    \n",
       "25%                                             4.000000                                    \n",
       "50%                                             5.000000                                    \n",
       "75%                                             5.000000                                    \n",
       "max                                             5.000000                                    "
      ]
     },
     "execution_count": 26,
     "metadata": {},
     "output_type": "execute_result"
    }
   ],
   "source": [
    "UI_Q_df.iloc[:,:6].describe()"
   ]
  },
  {
   "cell_type": "code",
   "execution_count": 82,
   "id": "cf7d92dd",
   "metadata": {
    "id": "cf7d92dd"
   },
   "outputs": [
    {
     "name": "stdout",
     "output_type": "stream",
     "text": [
      "Amazon.in       29.225352\n",
      "Flipkart.com    23.591549\n",
      "Myntra.com      17.253521\n",
      "Snapdeal.com    15.258216\n",
      "Paytm.com       14.671362\n",
      "dtype: float64\n"
     ]
    },
    {
     "data": {
      "image/png": "[encoded data removed]",
      "text/plain": [
       "<Figure size 432x288 with 1 Axes>"
      ]
     },
     "metadata": {
      "needs_background": "light"
     },
     "output_type": "display_data"
    },
    {
     "name": "stdout",
     "output_type": "stream",
     "text": [
      "Amazon.in       35.193798\n",
      "Flipkart.com    27.131783\n",
      "Myntra.com      17.829457\n",
      "Paytm.com       10.387597\n",
      "Snapdeal.com     9.457364\n",
      "dtype: float64\n"
     ]
    },
    {
     "data": {
      "image/png": "[encoded data removed]",
      "text/plain": [
       "<Figure size 432x288 with 1 Axes>"
      ]
     },
     "metadata": {
      "needs_background": "light"
     },
     "output_type": "display_data"
    },
    {
     "name": "stdout",
     "output_type": "stream",
     "text": [
      "Amazon.in       37.443609\n",
      "Flipkart.com    24.360902\n",
      "Paytm.com       14.887218\n",
      "Snapdeal.com    12.180451\n",
      "Myntra.com      11.127820\n",
      "dtype: float64\n"
     ]
    },
    {
     "data": {
      "image/png": "[encoded data removed]",
      "text/plain": [
       "<Figure size 432x288 with 1 Axes>"
      ]
     },
     "metadata": {
      "needs_background": "light"
     },
     "output_type": "display_data"
    },
    {
     "name": "stdout",
     "output_type": "stream",
     "text": [
      "Amazon.in       39.273356\n",
      "Flipkart.com    25.259516\n",
      "Paytm.com       16.608997\n",
      "Myntra.com      11.072664\n",
      "Snapdeal.com     7.785467\n",
      "dtype: float64\n"
     ]
    },
    {
     "data": {
      "image/png": "[encoded data removed]",
      "text/plain": [
       "<Figure size 432x288 with 1 Axes>"
      ]
     },
     "metadata": {
      "needs_background": "light"
     },
     "output_type": "display_data"
    },
    {
     "name": "stdout",
     "output_type": "stream",
     "text": [
      "Amazon.com      36.564626\n",
      "Flipkart.com    26.870748\n",
      "Paytm.com       18.197279\n",
      "Myntra.com      13.435374\n",
      "Snapdeal         4.931973\n",
      "dtype: float64\n"
     ]
    },
    {
     "data": {
      "image/png": "[encoded data removed]",
      "text/plain": [
       "<Figure size 432x288 with 1 Axes>"
      ]
     },
     "metadata": {
      "needs_background": "light"
     },
     "output_type": "display_data"
    },
    {
     "name": "stdout",
     "output_type": "stream",
     "text": [
      "Amazon.in       29.778393\n",
      "Flipkart.com    28.116343\n",
      "Myntra.com      18.282548\n",
      "Snapdeal.com    12.465374\n",
      "Patym.com       11.357341\n",
      "dtype: float64\n"
     ]
    },
    {
     "data": {
      "image/png": "[encoded data removed]",
      "text/plain": [
       "<Figure size 432x288 with 1 Axes>"
      ]
     },
     "metadata": {
      "needs_background": "light"
     },
     "output_type": "display_data"
    }
   ],
   "source": [
    "counts = 0\n",
    "plot_dict = {}\n",
    "for cname in UI_Q_df.iloc[:,6:].columns:\n",
    "    counts += 1\n",
    "    plot_list = []\n",
    "    for i in UI_Q_df[cname]:\n",
    "        for j in i.split(','):\n",
    "            plot_list.append(j.lstrip())\n",
    "    plot_dict[str(counts)] = plot_list\n",
    "    \n",
    "    print(pd.Series(plot_dict[str(counts)]).value_counts(normalize=True)*100)\n",
    "    sns.countplot(plot_dict[str(counts)])\n",
    "    plt.title(cname)\n",
    "#     plt.tick_params(axis='x', rotation=45)\n",
    "    plt.show()"
   ]
  },
  {
   "cell_type": "code",
   "execution_count": 28,
   "id": "283e906f",
   "metadata": {},
   "outputs": [
    {
     "data": {
      "text/plain": [
       "4.591078"
      ]
     },
     "execution_count": 28,
     "metadata": {},
     "output_type": "execute_result"
    }
   ],
   "source": [
    "4.591078"
   ]
  },
  {
   "cell_type": "markdown",
   "id": "1095e7b3",
   "metadata": {
    "id": "40e74107"
   },
   "source": [
    "# 3) Product Information"
   ]
  },
  {
   "cell_type": "code",
   "execution_count": 29,
   "id": "9f8cdf26",
   "metadata": {
    "id": "9f8cdf26",
    "outputId": "fa98d944-b32f-4d07-e7ce-6e954f18438e"
   },
   "outputs": [],
   "source": [
    "PI_df = pd.DataFrame({})\n",
    "\n",
    "for i in [data for data in new_questionaire[new_questionaire['Code'] == 'PI'].Questions]:\n",
    "    PI_df[i] =  data[i]"
   ]
  },
  {
   "cell_type": "code",
   "execution_count": 30,
   "id": "f0a47aa9",
   "metadata": {},
   "outputs": [
    {
     "data": {
      "text/html": [
       "<div>\n",
       "<style scoped>\n",
       "    .dataframe tbody tr th:only-of-type {\n",
       "        vertical-align: middle;\n",
       "    }\n",
       "\n",
       "    .dataframe tbody tr th {\n",
       "        vertical-align: top;\n",
       "    }\n",
       "\n",
       "    .dataframe thead th {\n",
       "        text-align: right;\n",
       "    }\n",
       "</style>\n",
       "<table border=\"1\" class=\"dataframe\">\n",
       "  <thead>\n",
       "    <tr style=\"text-align: right;\">\n",
       "      <th></th>\n",
       "      <th>19 Information on similar product to the one highlighted  is important for product comparison</th>\n",
       "      <th>20 Complete information on listed seller and product being offered is important for purchase decision.</th>\n",
       "      <th>21 All relevant information on listed products must be stated clearly</th>\n",
       "      <th>35 Displaying quality Information on the website improves satisfaction of customers</th>\n",
       "      <th>39 Offering a wide variety of listed product in several category</th>\n",
       "      <th>40 Provision of complete and relevant product information</th>\n",
       "    </tr>\n",
       "  </thead>\n",
       "  <tbody>\n",
       "    <tr>\n",
       "      <th>count</th>\n",
       "      <td>269.000000</td>\n",
       "      <td>269.000000</td>\n",
       "      <td>269.000000</td>\n",
       "      <td>269.000000</td>\n",
       "      <td>269.000000</td>\n",
       "      <td>269.000000</td>\n",
       "    </tr>\n",
       "    <tr>\n",
       "      <th>mean</th>\n",
       "      <td>4.137546</td>\n",
       "      <td>3.873606</td>\n",
       "      <td>4.107807</td>\n",
       "      <td>4.286245</td>\n",
       "      <td>4.148699</td>\n",
       "      <td>4.349442</td>\n",
       "    </tr>\n",
       "    <tr>\n",
       "      <th>std</th>\n",
       "      <td>0.918123</td>\n",
       "      <td>1.068027</td>\n",
       "      <td>1.082206</td>\n",
       "      <td>0.789292</td>\n",
       "      <td>0.842110</td>\n",
       "      <td>0.755953</td>\n",
       "    </tr>\n",
       "    <tr>\n",
       "      <th>min</th>\n",
       "      <td>2.000000</td>\n",
       "      <td>1.000000</td>\n",
       "      <td>1.000000</td>\n",
       "      <td>3.000000</td>\n",
       "      <td>2.000000</td>\n",
       "      <td>2.000000</td>\n",
       "    </tr>\n",
       "    <tr>\n",
       "      <th>25%</th>\n",
       "      <td>4.000000</td>\n",
       "      <td>3.000000</td>\n",
       "      <td>4.000000</td>\n",
       "      <td>4.000000</td>\n",
       "      <td>4.000000</td>\n",
       "      <td>4.000000</td>\n",
       "    </tr>\n",
       "    <tr>\n",
       "      <th>50%</th>\n",
       "      <td>4.000000</td>\n",
       "      <td>4.000000</td>\n",
       "      <td>4.000000</td>\n",
       "      <td>4.000000</td>\n",
       "      <td>4.000000</td>\n",
       "      <td>5.000000</td>\n",
       "    </tr>\n",
       "    <tr>\n",
       "      <th>75%</th>\n",
       "      <td>5.000000</td>\n",
       "      <td>5.000000</td>\n",
       "      <td>5.000000</td>\n",
       "      <td>5.000000</td>\n",
       "      <td>5.000000</td>\n",
       "      <td>5.000000</td>\n",
       "    </tr>\n",
       "    <tr>\n",
       "      <th>max</th>\n",
       "      <td>5.000000</td>\n",
       "      <td>5.000000</td>\n",
       "      <td>5.000000</td>\n",
       "      <td>5.000000</td>\n",
       "      <td>5.000000</td>\n",
       "      <td>5.000000</td>\n",
       "    </tr>\n",
       "  </tbody>\n",
       "</table>\n",
       "</div>"
      ],
      "text/plain": [
       "       19 Information on similar product to the one highlighted  is important for product comparison  \\\n",
       "count                                         269.000000                                               \n",
       "mean                                            4.137546                                               \n",
       "std                                             0.918123                                               \n",
       "min                                             2.000000                                               \n",
       "25%                                             4.000000                                               \n",
       "50%                                             4.000000                                               \n",
       "75%                                             5.000000                                               \n",
       "max                                             5.000000                                               \n",
       "\n",
       "       20 Complete information on listed seller and product being offered is important for purchase decision.  \\\n",
       "count                                         269.000000                                                        \n",
       "mean                                            3.873606                                                        \n",
       "std                                             1.068027                                                        \n",
       "min                                             1.000000                                                        \n",
       "25%                                             3.000000                                                        \n",
       "50%                                             4.000000                                                        \n",
       "75%                                             5.000000                                                        \n",
       "max                                             5.000000                                                        \n",
       "\n",
       "       21 All relevant information on listed products must be stated clearly  \\\n",
       "count                                         269.000000                       \n",
       "mean                                            4.107807                       \n",
       "std                                             1.082206                       \n",
       "min                                             1.000000                       \n",
       "25%                                             4.000000                       \n",
       "50%                                             4.000000                       \n",
       "75%                                             5.000000                       \n",
       "max                                             5.000000                       \n",
       "\n",
       "       35 Displaying quality Information on the website improves satisfaction of customers  \\\n",
       "count                                         269.000000                                     \n",
       "mean                                            4.286245                                     \n",
       "std                                             0.789292                                     \n",
       "min                                             3.000000                                     \n",
       "25%                                             4.000000                                     \n",
       "50%                                             4.000000                                     \n",
       "75%                                             5.000000                                     \n",
       "max                                             5.000000                                     \n",
       "\n",
       "       39 Offering a wide variety of listed product in several category  \\\n",
       "count                                         269.000000                  \n",
       "mean                                            4.148699                  \n",
       "std                                             0.842110                  \n",
       "min                                             2.000000                  \n",
       "25%                                             4.000000                  \n",
       "50%                                             4.000000                  \n",
       "75%                                             5.000000                  \n",
       "max                                             5.000000                  \n",
       "\n",
       "       40 Provision of complete and relevant product information  \n",
       "count                                         269.000000          \n",
       "mean                                            4.349442          \n",
       "std                                             0.755953          \n",
       "min                                             2.000000          \n",
       "25%                                             4.000000          \n",
       "50%                                             5.000000          \n",
       "75%                                             5.000000          \n",
       "max                                             5.000000          "
      ]
     },
     "execution_count": 30,
     "metadata": {},
     "output_type": "execute_result"
    }
   ],
   "source": [
    "PI_df.iloc[:,:6].describe()"
   ]
  },
  {
   "cell_type": "code",
   "execution_count": 31,
   "id": "7e3e505b",
   "metadata": {
    "id": "7e3e505b",
    "outputId": "a3cecbce-ae2b-4fae-9eef-10e88cd8539e"
   },
   "outputs": [
    {
     "name": "stdout",
     "output_type": "stream",
     "text": [
      "Amazon.in       38.762215\n",
      "Flipkart.com    31.596091\n",
      "Myntra.com      10.423453\n",
      "Snapdeal.com     9.609121\n",
      "Paytm.com        9.609121\n",
      "dtype: float64\n"
     ]
    },
    {
     "data": {
      "image/png": "[encoded data removed]",
      "text/plain": [
       "<Figure size 432x288 with 1 Axes>"
      ]
     },
     "metadata": {
      "needs_background": "light"
     },
     "output_type": "display_data"
    }
   ],
   "source": [
    "counts = 0\n",
    "plot_dict = {}\n",
    "for cname in PI_df.iloc[:,6:].columns:\n",
    "    counts += 1\n",
    "    plot_list = []\n",
    "    for i in PI_df[cname]:\n",
    "        for j in i.split(','):\n",
    "            plot_list.append(j.lstrip())\n",
    "    plot_dict[str(counts)] = plot_list\n",
    "    \n",
    "    print(pd.Series(plot_dict[str(counts)]).value_counts(normalize=True)*100)\n",
    "    sns.countplot(plot_dict[str(counts)])\n",
    "    plt.title(cname)\n",
    "    plt.tick_params(axis='x', rotation=45)\n",
    "    plt.show()"
   ]
  },
  {
   "cell_type": "code",
   "execution_count": 32,
   "id": "54ec6168",
   "metadata": {},
   "outputs": [
    {
     "data": {
      "text/plain": [
       "4.349442"
      ]
     },
     "execution_count": 32,
     "metadata": {},
     "output_type": "execute_result"
    }
   ],
   "source": [
    "4.349442"
   ]
  },
  {
   "cell_type": "markdown",
   "id": "1cfc2984",
   "metadata": {
    "id": "0d2a4173"
   },
   "source": [
    "# 4) Trust"
   ]
  },
  {
   "cell_type": "code",
   "execution_count": 33,
   "id": "bcfa30ae",
   "metadata": {
    "id": "bcfa30ae"
   },
   "outputs": [],
   "source": [
    "T_df = pd.DataFrame({})\n",
    "\n",
    "for i in [data for data in new_questionaire[new_questionaire['Code'] == 'T'].Questions]:\n",
    "    T_df[i] =  data[i]"
   ]
  },
  {
   "cell_type": "code",
   "execution_count": 34,
   "id": "8bf9b99c",
   "metadata": {
    "id": "8bf9b99c"
   },
   "outputs": [
    {
     "data": {
      "text/plain": [
       "26 Trust that the online retail store will fulfill its part of the transaction at the stipulated time    4.256506\n",
       "28 Being able to guarantee the privacy of the customer                                                   4.591078\n",
       "38 User satisfaction cannot exist without trust                                                          4.182156\n",
       "dtype: float64"
      ]
     },
     "execution_count": 34,
     "metadata": {},
     "output_type": "execute_result"
    }
   ],
   "source": [
    "T_df.iloc[:,:3].mean()"
   ]
  },
  {
   "cell_type": "markdown",
   "id": "2a672de0",
   "metadata": {},
   "source": [
    "Average shows that the User's privacy matters in-order to build Trust"
   ]
  },
  {
   "cell_type": "code",
   "execution_count": 35,
   "id": "42e2b1e0",
   "metadata": {
    "id": "42e2b1e0"
   },
   "outputs": [
    {
     "name": "stdout",
     "output_type": "stream",
     "text": [
      "Amazon.in       40.827338\n",
      "Flipkart.com    25.719424\n",
      "Myntra.com      15.827338\n",
      "Snapdeal.com    13.309353\n",
      "Paytm.com        4.316547\n",
      "dtype: float64\n"
     ]
    },
    {
     "data": {
      "image/png": "[encoded data removed]",
      "text/plain": [
       "<Figure size 432x288 with 1 Axes>"
      ]
     },
     "metadata": {
      "needs_background": "light"
     },
     "output_type": "display_data"
    },
    {
     "name": "stdout",
     "output_type": "stream",
     "text": [
      "Amazon.in       39.323843\n",
      "Flipkart.com    26.690391\n",
      "Myntra.com      13.879004\n",
      "Paytm.com       12.099644\n",
      "Snapdeal.com     8.007117\n",
      "dtype: float64\n"
     ]
    },
    {
     "data": {
      "image/png": "[encoded data removed]",
      "text/plain": [
       "<Figure size 432x288 with 1 Axes>"
      ]
     },
     "metadata": {
      "needs_background": "light"
     },
     "output_type": "display_data"
    },
    {
     "name": "stdout",
     "output_type": "stream",
     "text": [
      "Amazon.in       32.492114\n",
      "Flipkart.com    23.501577\n",
      "Snapdeal.com    15.772871\n",
      "Myntra.com      14.353312\n",
      "Paytm.com       13.880126\n",
      "dtype: float64\n"
     ]
    },
    {
     "data": {
      "image/png": "[encoded data removed]",
      "text/plain": [
       "<Figure size 432x288 with 1 Axes>"
      ]
     },
     "metadata": {
      "needs_background": "light"
     },
     "output_type": "display_data"
    }
   ],
   "source": [
    "counts = 0\n",
    "plot_dict = {}\n",
    "for cname in T_df.iloc[:,3:].columns:\n",
    "    counts += 1\n",
    "    plot_list = []\n",
    "    for i in T_df[cname]:\n",
    "        for j in i.split(','):\n",
    "            plot_list.append(j.lstrip())\n",
    "    plot_dict[str(counts)] = plot_list\n",
    "    \n",
    "    print(pd.Series(plot_dict[str(counts)]).value_counts(normalize=True)*100)\n",
    "    sns.countplot(plot_dict[str(counts)])\n",
    "    plt.title(cname)\n",
    "    plt.tick_params(axis='x', rotation=45)\n",
    "    plt.show()"
   ]
  },
  {
   "cell_type": "markdown",
   "id": "17d0d418",
   "metadata": {},
   "source": [
    "The Data shows that the Amazon is the most trusted e-commerce site among other e-stores due to </br>**Privacy of User's Information** </br>**Security of Financial Information**"
   ]
  },
  {
   "cell_type": "markdown",
   "id": "a0852920",
   "metadata": {},
   "source": [
    " "
   ]
  },
  {
   "cell_type": "markdown",
   "id": "a5731e5d",
   "metadata": {},
   "source": [
    "# 5) Net Benefit"
   ]
  },
  {
   "cell_type": "code",
   "execution_count": 37,
   "id": "fad5af00",
   "metadata": {},
   "outputs": [],
   "source": [
    "NB_df = pd.DataFrame({})\n",
    "\n",
    "for i in [data for data in new_questionaire[new_questionaire['Code'] == 'NB'].Questions]:\n",
    "    NB_df[i] =  data[i]"
   ]
  },
  {
   "cell_type": "code",
   "execution_count": 38,
   "id": "cba2f143",
   "metadata": {},
   "outputs": [
    {
     "data": {
      "text/plain": [
       "30 Online shopping gives monetary benefit and discounts                       3.921933\n",
       "34 Gaining access to loyalty programs is a benefit of shopping online         3.955390\n",
       "37 Net Benefit derived from shopping online can lead to users satisfaction    4.379182\n",
       "41 Monetary savings                                                           4.263941\n",
       "47 Getting value for money spent                                              4.163569\n",
       "dtype: float64"
      ]
     },
     "execution_count": 38,
     "metadata": {},
     "output_type": "execute_result"
    }
   ],
   "source": [
    "NB_df.iloc[:,:5].mean()"
   ]
  },
  {
   "cell_type": "code",
   "execution_count": 39,
   "id": "bc429e9a",
   "metadata": {},
   "outputs": [
    {
     "name": "stdout",
     "output_type": "stream",
     "text": [
      "Amazon.in       43.824701\n",
      "Flipkart.com    36.653386\n",
      "Myntra.com      12.749004\n",
      "Paytm.com        3.984064\n",
      "Snapdeal.com     2.788845\n",
      "dtype: float64\n"
     ]
    },
    {
     "data": {
      "image/png": "[encoded data removed]",
      "text/plain": [
       "<Figure size 432x288 with 1 Axes>"
      ]
     },
     "metadata": {
      "needs_background": "light"
     },
     "output_type": "display_data"
    }
   ],
   "source": [
    "counts = 0\n",
    "plot_dict = {}\n",
    "for cname in NB_df.iloc[:,5:].columns:\n",
    "    counts += 1\n",
    "    plot_list = []\n",
    "    for i in NB_df[cname]:\n",
    "        for j in i.split(','):\n",
    "            plot_list.append(j.lstrip())\n",
    "    plot_dict[str(counts)] = plot_list\n",
    "    \n",
    "    print(pd.Series(plot_dict[str(counts)]).value_counts(normalize=True)*100)\n",
    "    sns.countplot(plot_dict[str(counts)])\n",
    "    plt.title(cname)\n",
    "    plt.tick_params(axis='x', rotation=45)\n",
    "    plt.show()"
   ]
  },
  {
   "cell_type": "markdown",
   "id": "e8fb11c1",
   "metadata": {},
   "source": [
    "5th factor **Net Benifit's** data shows that the **Amazon.in** offers the wide variety of products on offer and the **Flipkart** is slighty less. However, the difference is huge as compared to the other e-commerce stores."
   ]
  },
  {
   "cell_type": "markdown",
   "id": "03b3db5a",
   "metadata": {},
   "source": [
    " Amazon was climbed all the bars and tool the first position "
   ]
  },
  {
   "cell_type": "markdown",
   "id": "b08b7a92",
   "metadata": {},
   "source": [
    "  "
   ]
  },
  {
   "cell_type": "markdown",
   "id": "70cadd6a",
   "metadata": {},
   "source": [
    " \n",
    " "
   ]
  },
  {
   "cell_type": "markdown",
   "id": "d400776d",
   "metadata": {},
   "source": [
    "These 5 Factors lead customer towards **Utilitarian**(value recieved based on the task-related) or **Hedonic**(Fun and playfull Experience)."
   ]
  },
  {
   "cell_type": "markdown",
   "id": "23034fcd",
   "metadata": {},
   "source": [
    "# Utilitarian value\n",
    "**Utilitarian value is defined as that value that a customer receives based on a task-related and rational consumption behavior** \n"
   ]
  },
  {
   "cell_type": "code",
   "execution_count": 40,
   "id": "b391795e",
   "metadata": {},
   "outputs": [],
   "source": [
    "UV_df = pd.DataFrame({})\n",
    "\n",
    "for i in [data for data in new_questionaire[new_questionaire['Code'] == 'utilitarian'].Questions]:\n",
    "    UV_df[i] =  data[i]"
   ]
  },
  {
   "cell_type": "code",
   "execution_count": 41,
   "id": "4b492a26",
   "metadata": {},
   "outputs": [
    {
     "data": {
      "text/html": [
       "<div>\n",
       "<style scoped>\n",
       "    .dataframe tbody tr th:only-of-type {\n",
       "        vertical-align: middle;\n",
       "    }\n",
       "\n",
       "    .dataframe tbody tr th {\n",
       "        vertical-align: top;\n",
       "    }\n",
       "\n",
       "    .dataframe thead th {\n",
       "        text-align: right;\n",
       "    }\n",
       "</style>\n",
       "<table border=\"1\" class=\"dataframe\">\n",
       "  <thead>\n",
       "    <tr style=\"text-align: right;\">\n",
       "      <th></th>\n",
       "      <th>32 Shopping online is convenient and flexible</th>\n",
       "      <th>46 Shopping on the website helps you fulfill certain roles</th>\n",
       "    </tr>\n",
       "  </thead>\n",
       "  <tbody>\n",
       "    <tr>\n",
       "      <th>count</th>\n",
       "      <td>269.000000</td>\n",
       "      <td>269.000000</td>\n",
       "    </tr>\n",
       "    <tr>\n",
       "      <th>mean</th>\n",
       "      <td>4.330855</td>\n",
       "      <td>3.282528</td>\n",
       "    </tr>\n",
       "    <tr>\n",
       "      <th>std</th>\n",
       "      <td>0.858569</td>\n",
       "      <td>1.178995</td>\n",
       "    </tr>\n",
       "    <tr>\n",
       "      <th>min</th>\n",
       "      <td>2.000000</td>\n",
       "      <td>1.000000</td>\n",
       "    </tr>\n",
       "    <tr>\n",
       "      <th>25%</th>\n",
       "      <td>4.000000</td>\n",
       "      <td>3.000000</td>\n",
       "    </tr>\n",
       "    <tr>\n",
       "      <th>50%</th>\n",
       "      <td>5.000000</td>\n",
       "      <td>3.000000</td>\n",
       "    </tr>\n",
       "    <tr>\n",
       "      <th>75%</th>\n",
       "      <td>5.000000</td>\n",
       "      <td>4.000000</td>\n",
       "    </tr>\n",
       "    <tr>\n",
       "      <th>max</th>\n",
       "      <td>5.000000</td>\n",
       "      <td>5.000000</td>\n",
       "    </tr>\n",
       "  </tbody>\n",
       "</table>\n",
       "</div>"
      ],
      "text/plain": [
       "       32 Shopping online is convenient and flexible  \\\n",
       "count                                     269.000000   \n",
       "mean                                        4.330855   \n",
       "std                                         0.858569   \n",
       "min                                         2.000000   \n",
       "25%                                         4.000000   \n",
       "50%                                         5.000000   \n",
       "75%                                         5.000000   \n",
       "max                                         5.000000   \n",
       "\n",
       "       46 Shopping on the website helps you fulfill certain roles  \n",
       "count                                         269.000000           \n",
       "mean                                            3.282528           \n",
       "std                                             1.178995           \n",
       "min                                             1.000000           \n",
       "25%                                             3.000000           \n",
       "50%                                             3.000000           \n",
       "75%                                             4.000000           \n",
       "max                                             5.000000           "
      ]
     },
     "execution_count": 41,
     "metadata": {},
     "output_type": "execute_result"
    }
   ],
   "source": [
    "UV_df.describe()"
   ]
  },
  {
   "cell_type": "markdown",
   "id": "df71aa31",
   "metadata": {},
   "source": [
    "Bases on Utilitarian Value:</br>Average rating shows that the users greatly focus upon what is convenient and flexible for them use rather than just focusing on fulfilling certain roles."
   ]
  },
  {
   "cell_type": "markdown",
   "id": "9535c6e6",
   "metadata": {},
   "source": [
    "# Hedonic value\n",
    "**Hedonic value is defined as that value a customer receives based on the subject experience of fun and playfulness**"
   ]
  },
  {
   "cell_type": "code",
   "execution_count": 42,
   "id": "7b87b28d",
   "metadata": {},
   "outputs": [],
   "source": [
    "HV_df = pd.DataFrame({})\n",
    "\n",
    "for i in [data for data in new_questionaire[new_questionaire['Code'] == 'hedonic'].Questions]:\n",
    "    HV_df[i] =  data[i]"
   ]
  },
  {
   "cell_type": "code",
   "execution_count": 43,
   "id": "ae04f369",
   "metadata": {},
   "outputs": [
    {
     "data": {
      "text/html": [
       "<div>\n",
       "<style scoped>\n",
       "    .dataframe tbody tr th:only-of-type {\n",
       "        vertical-align: middle;\n",
       "    }\n",
       "\n",
       "    .dataframe tbody tr th {\n",
       "        vertical-align: top;\n",
       "    }\n",
       "\n",
       "    .dataframe thead th {\n",
       "        text-align: right;\n",
       "    }\n",
       "</style>\n",
       "<table border=\"1\" class=\"dataframe\">\n",
       "  <thead>\n",
       "    <tr style=\"text-align: right;\">\n",
       "      <th></th>\n",
       "      <th>31 Enjoyment is derived from shopping online</th>\n",
       "      <th>43 Shopping on the website gives you the sense of adventure</th>\n",
       "      <th>44 Shopping on your preferred e-tailer enhances your social status</th>\n",
       "      <th>45 You feel gratification shopping on your favorite e-tailer</th>\n",
       "    </tr>\n",
       "  </thead>\n",
       "  <tbody>\n",
       "    <tr>\n",
       "      <th>count</th>\n",
       "      <td>269.000000</td>\n",
       "      <td>269.000000</td>\n",
       "      <td>269.000000</td>\n",
       "      <td>269.000000</td>\n",
       "    </tr>\n",
       "    <tr>\n",
       "      <th>mean</th>\n",
       "      <td>3.565056</td>\n",
       "      <td>3.553903</td>\n",
       "      <td>3.223048</td>\n",
       "      <td>3.501859</td>\n",
       "    </tr>\n",
       "    <tr>\n",
       "      <th>std</th>\n",
       "      <td>1.304572</td>\n",
       "      <td>1.065869</td>\n",
       "      <td>1.219581</td>\n",
       "      <td>1.141564</td>\n",
       "    </tr>\n",
       "    <tr>\n",
       "      <th>min</th>\n",
       "      <td>1.000000</td>\n",
       "      <td>1.000000</td>\n",
       "      <td>1.000000</td>\n",
       "      <td>1.000000</td>\n",
       "    </tr>\n",
       "    <tr>\n",
       "      <th>25%</th>\n",
       "      <td>3.000000</td>\n",
       "      <td>3.000000</td>\n",
       "      <td>3.000000</td>\n",
       "      <td>3.000000</td>\n",
       "    </tr>\n",
       "    <tr>\n",
       "      <th>50%</th>\n",
       "      <td>4.000000</td>\n",
       "      <td>4.000000</td>\n",
       "      <td>3.000000</td>\n",
       "      <td>3.000000</td>\n",
       "    </tr>\n",
       "    <tr>\n",
       "      <th>75%</th>\n",
       "      <td>5.000000</td>\n",
       "      <td>4.000000</td>\n",
       "      <td>4.000000</td>\n",
       "      <td>4.000000</td>\n",
       "    </tr>\n",
       "    <tr>\n",
       "      <th>max</th>\n",
       "      <td>5.000000</td>\n",
       "      <td>5.000000</td>\n",
       "      <td>5.000000</td>\n",
       "      <td>5.000000</td>\n",
       "    </tr>\n",
       "  </tbody>\n",
       "</table>\n",
       "</div>"
      ],
      "text/plain": [
       "       31 Enjoyment is derived from shopping online  \\\n",
       "count                                    269.000000   \n",
       "mean                                       3.565056   \n",
       "std                                        1.304572   \n",
       "min                                        1.000000   \n",
       "25%                                        3.000000   \n",
       "50%                                        4.000000   \n",
       "75%                                        5.000000   \n",
       "max                                        5.000000   \n",
       "\n",
       "       43 Shopping on the website gives you the sense of adventure  \\\n",
       "count                                         269.000000             \n",
       "mean                                            3.553903             \n",
       "std                                             1.065869             \n",
       "min                                             1.000000             \n",
       "25%                                             3.000000             \n",
       "50%                                             4.000000             \n",
       "75%                                             4.000000             \n",
       "max                                             5.000000             \n",
       "\n",
       "       44 Shopping on your preferred e-tailer enhances your social status  \\\n",
       "count                                         269.000000                    \n",
       "mean                                            3.223048                    \n",
       "std                                             1.219581                    \n",
       "min                                             1.000000                    \n",
       "25%                                             3.000000                    \n",
       "50%                                             3.000000                    \n",
       "75%                                             4.000000                    \n",
       "max                                             5.000000                    \n",
       "\n",
       "       45 You feel gratification shopping on your favorite e-tailer  \n",
       "count                                         269.000000             \n",
       "mean                                            3.501859             \n",
       "std                                             1.141564             \n",
       "min                                             1.000000             \n",
       "25%                                             3.000000             \n",
       "50%                                             3.000000             \n",
       "75%                                             4.000000             \n",
       "max                                             5.000000             "
      ]
     },
     "execution_count": 43,
     "metadata": {},
     "output_type": "execute_result"
    }
   ],
   "source": [
    "HV_df.describe()"
   ]
  },
  {
   "cell_type": "markdown",
   "id": "903df3d4",
   "metadata": {},
   "source": [
    "Hedonic related columns shows that the users care slightly less about the playfullness experience."
   ]
  },
  {
   "cell_type": "markdown",
   "id": "a9496908",
   "metadata": {},
   "source": [
    "# Complaints"
   ]
  },
  {
   "cell_type": "code",
   "execution_count": 44,
   "id": "5ecb4fa1",
   "metadata": {},
   "outputs": [],
   "source": [
    "issues_df = pd.DataFrame({})\n",
    "\n",
    "for i in [data for data in new_questionaire[new_questionaire['Code'] == 'issue'].Questions]:\n",
    "    issues_df[i] =  data[i]"
   ]
  },
  {
   "cell_type": "code",
   "execution_count": 45,
   "id": "6983c4fb",
   "metadata": {},
   "outputs": [
    {
     "name": "stdout",
     "output_type": "stream",
     "text": [
      "Amazon.in       32.374101\n",
      "Flipkart.com    24.700240\n",
      "Paytm.com       18.465228\n",
      "Snapdeal.com    16.067146\n",
      "Myntra.com       8.393285\n",
      "dtype: float64\n"
     ]
    },
    {
     "data": {
      "image/png": "[encoded data removed]",
      "text/plain": [
       "<Figure size 432x288 with 1 Axes>"
      ]
     },
     "metadata": {
      "needs_background": "light"
     },
     "output_type": "display_data"
    },
    {
     "name": "stdout",
     "output_type": "stream",
     "text": [
      "Amazon.in       30.434783\n",
      "Flipkart.com    22.705314\n",
      "Snapdeal.com    22.222222\n",
      "Myntra.com      17.874396\n",
      "Paytm.com        6.763285\n",
      "dtype: float64\n"
     ]
    },
    {
     "data": {
      "image/png": "[encoded data removed]",
      "text/plain": [
       "<Figure size 432x288 with 1 Axes>"
      ]
     },
     "metadata": {
      "needs_background": "light"
     },
     "output_type": "display_data"
    },
    {
     "name": "stdout",
     "output_type": "stream",
     "text": [
      "Myntra.com      25.510204\n",
      "Paytm.com       24.489796\n",
      "Amazon.in       19.047619\n",
      "snapdeal.com    16.326531\n",
      "Flipkart.com    14.625850\n",
      "dtype: float64\n"
     ]
    },
    {
     "data": {
      "image/png": "[encoded data removed]",
      "text/plain": [
       "<Figure size 432x288 with 1 Axes>"
      ]
     },
     "metadata": {
      "needs_background": "light"
     },
     "output_type": "display_data"
    },
    {
     "name": "stdout",
     "output_type": "stream",
     "text": [
      "Paytm.com       26.553672\n",
      "Myntra.com      19.209040\n",
      "Amazon.in       19.209040\n",
      "Snapdeal.com    17.796610\n",
      "Flipkart.com    17.231638\n",
      "dtype: float64\n"
     ]
    },
    {
     "data": {
      "image/png": "[encoded data removed]",
      "text/plain": [
       "<Figure size 432x288 with 1 Axes>"
      ]
     },
     "metadata": {
      "needs_background": "light"
     },
     "output_type": "display_data"
    },
    {
     "name": "stdout",
     "output_type": "stream",
     "text": [
      "Snapdeal.com    32.732733\n",
      "Amazon.in       31.231231\n",
      "Flipkart.com    18.018018\n",
      "Paytm.com       15.915916\n",
      "Myntra.com       2.102102\n",
      "dtype: float64\n"
     ]
    },
    {
     "data": {
      "image/png": "[encoded data removed]",
      "text/plain": [
       "<Figure size 432x288 with 1 Axes>"
      ]
     },
     "metadata": {
      "needs_background": "light"
     },
     "output_type": "display_data"
    },
    {
     "name": "stdout",
     "output_type": "stream",
     "text": [
      "Paytm.com       33.220339\n",
      "Snapdeal.com    30.508475\n",
      "Flipkart.com    14.915254\n",
      "Amazon.in       12.542373\n",
      "Myntra.com       8.813559\n",
      "dtype: float64\n"
     ]
    },
    {
     "data": {
      "image/png": "[encoded data removed]",
      "text/plain": [
       "<Figure size 432x288 with 1 Axes>"
      ]
     },
     "metadata": {
      "needs_background": "light"
     },
     "output_type": "display_data"
    },
    {
     "name": "stdout",
     "output_type": "stream",
     "text": [
      "Amazon.in       43.925234\n",
      "Flipkart.com    22.429907\n",
      "Paytm.com       19.626168\n",
      "Myntra.com      11.526480\n",
      "Snapdeal.com     2.492212\n",
      "dtype: float64\n"
     ]
    },
    {
     "data": {
      "image/png": "[encoded data removed]",
      "text/plain": [
       "<Figure size 432x288 with 1 Axes>"
      ]
     },
     "metadata": {
      "needs_background": "light"
     },
     "output_type": "display_data"
    },
    {
     "name": "stdout",
     "output_type": "stream",
     "text": [
      "Amazon.in       24.451411\n",
      "Snapdeal.com    23.197492\n",
      "Myntra.com      20.689655\n",
      "Flipkart.com    19.435737\n",
      "Paytm.com       12.225705\n",
      "dtype: float64\n"
     ]
    },
    {
     "data": {
      "image/png": "[encoded data removed]",
      "text/plain": [
       "<Figure size 432x288 with 1 Axes>"
      ]
     },
     "metadata": {
      "needs_background": "light"
     },
     "output_type": "display_data"
    }
   ],
   "source": [
    "counts = 0\n",
    "plot_dict = {}\n",
    "for cname in issues_df.iloc[:,:].columns:\n",
    "    counts += 1\n",
    "    plot_list = []\n",
    "    for i in issues_df[cname]:\n",
    "        for j in i.split(','):\n",
    "            plot_list.append(j.lstrip())\n",
    "    plot_dict[str(counts)] = plot_list\n",
    "    \n",
    "    print(pd.Series(plot_dict[str(counts)]).value_counts(normalize=True)*100)\n",
    "    sns.countplot( pd.Series( plot_dict[str(counts)]).sort_values() )\n",
    "    plt.title(cname)\n",
    "    plt.tick_params(axis='x', rotation=45)\n",
    "    plt.show()"
   ]
  },
  {
   "cell_type": "markdown",
   "id": "dd01a2b4",
   "metadata": {},
   "source": [
    "We can clearly see that the most of the customers are facing the issues with Amazon e-commerce site like: **</br>Longer Time in Displaying Content </br>Limited mode of payments </br>Frequent disruptions while navigating**\n",
    "\n",
    "Still customers recommend Amazon to their friends.\n",
    "Five Factors effect customers Decision while choosing and suggesting online stores."
   ]
  },
  {
   "cell_type": "markdown",
   "id": "b3a3a385",
   "metadata": {},
   "source": [
    "**To fix these issues, online stores must focus on these 5 Factors and make changes accordingly.**"
   ]
  },
  {
   "cell_type": "code",
   "execution_count": 67,
   "id": "0aefa279",
   "metadata": {},
   "outputs": [
    {
     "name": "stdout",
     "output_type": "stream",
     "text": [
      "Amazon.in       43.925234\n",
      "Flipkart.com    22.429907\n",
      "Paytm.com       19.626168\n",
      "Myntra.com      11.526480\n",
      "Snapdeal.com     2.492212\n",
      "dtype: float64\n"
     ]
    },
    {
     "data": {
      "image/png": "[encoded data removed]",
      "text/plain": [
       "<Figure size 432x288 with 1 Axes>"
      ]
     },
     "metadata": {
      "needs_background": "light"
     },
     "output_type": "display_data"
    }
   ],
   "source": [
    "counts = 0\n",
    "plot_dict = {}\n",
    "for cname in issues_df.iloc[:,-2:-1].columns:\n",
    "    counts += 1\n",
    "    plot_list = []\n",
    "    for i in issues_df[cname]:\n",
    "        for j in i.split(','):\n",
    "            plot_list.append(j.lstrip())\n",
    "    plot_dict[str(counts)] = plot_list\n",
    "    \n",
    "    print(pd.Series(plot_dict[str(counts)]).value_counts(normalize=True)*100)\n",
    "    sns.countplot( pd.Series( plot_dict[str(counts)]).sort_values() )\n",
    "    plt.title(cname)\n",
    "    plt.tick_params(axis='x', rotation=45)\n",
    "    plt.show()"
   ]
  },
  {
   "cell_type": "markdown",
   "id": "024bb40b",
   "metadata": {},
   "source": [
    "Amazon is changing thier Website frequently"
   ]
  },
  {
   "cell_type": "markdown",
   "id": "d222371c",
   "metadata": {},
   "source": [
    "# Decision Making"
   ]
  },
  {
   "cell_type": "code",
   "execution_count": 53,
   "id": "667a28b5",
   "metadata": {},
   "outputs": [],
   "source": [
    "DM_df = pd.DataFrame({})\n",
    "\n",
    "for i in [data for data in new_questionaire[new_questionaire['Code'] == 'DM'].Questions]:\n",
    "    DM_df[i] =  data_sheet[i]\n",
    "    "
   ]
  },
  {
   "cell_type": "code",
   "execution_count": 54,
   "id": "f298195c",
   "metadata": {},
   "outputs": [
    {
     "name": "stdout",
     "output_type": "stream",
     "text": [
      "more than 15 mins    45.724907\n",
      "6-10 mins            26.394052\n",
      "11-15 mins           17.100372\n",
      "Less than 1 min       5.576208\n",
      "1-5 mins              5.204461\n",
      "dtype: float64\n"
     ]
    },
    {
     "data": {
      "image/png": "[encoded data removed]",
      "text/plain": [
       "<Figure size 432x288 with 1 Axes>"
      ]
     },
     "metadata": {
      "needs_background": "light"
     },
     "output_type": "display_data"
    },
    {
     "name": "stdout",
     "output_type": "stream",
     "text": [
      "Credit/Debit cards        47.133758\n",
      "Cash on delivery (CoD)    24.203822\n",
      "E-wallets (Paytm          14.331210\n",
      "Freecharge etc.)          14.331210\n",
      "dtype: float64\n"
     ]
    },
    {
     "data": {
      "image/png": "[encoded data removed]",
      "text/plain": [
       "<Figure size 432x288 with 1 Axes>"
      ]
     },
     "metadata": {
      "needs_background": "light"
     },
     "output_type": "display_data"
    },
    {
     "name": "stdout",
     "output_type": "stream",
     "text": [
      "Sometimes          63.568773\n",
      "Never              17.843866\n",
      "Frequently         13.011152\n",
      "Very frequently     5.576208\n",
      "dtype: float64\n"
     ]
    },
    {
     "data": {
      "image/png": "[encoded data removed]",
      "text/plain": [
       "<Figure size 432x288 with 1 Axes>"
      ]
     },
     "metadata": {
      "needs_background": "light"
     },
     "output_type": "display_data"
    },
    {
     "name": "stdout",
     "output_type": "stream",
     "text": [
      "Better alternative offer        49.442379\n",
      "Promo code not applicable       20.074349\n",
      "Change in price                 13.754647\n",
      "Lack of trust                   11.524164\n",
      "No preferred mode of payment     5.204461\n",
      "dtype: float64\n"
     ]
    },
    {
     "data": {
      "image/png": "[encoded data removed]",
      "text/plain": [
       "<Figure size 432x288 with 1 Axes>"
      ]
     },
     "metadata": {
      "needs_background": "light"
     },
     "output_type": "display_data"
    },
    {
     "name": "stdout",
     "output_type": "stream",
     "text": [
      "Amazon.in       45.911950\n",
      "Flipkart.com    26.624738\n",
      "Myntra.com      15.932914\n",
      "Paytm.com        9.224319\n",
      "snapdeal.com     2.306080\n",
      "dtype: float64\n"
     ]
    },
    {
     "data": {
      "image/png": "[encoded data removed]",
      "text/plain": [
       "<Figure size 432x288 with 1 Axes>"
      ]
     },
     "metadata": {
      "needs_background": "light"
     },
     "output_type": "display_data"
    }
   ],
   "source": [
    "counts = 0\n",
    "plot_dict = {}\n",
    "for cname in DM_df.iloc[:,:].columns:\n",
    "    counts += 1\n",
    "    plot_list = []\n",
    "    for i in DM_df[cname]:\n",
    "        for j in i.split(','):\n",
    "            plot_list.append(j.lstrip())\n",
    "    plot_dict[str(counts)] = plot_list\n",
    "    \n",
    "    print(pd.Series(plot_dict[str(counts)]).value_counts(normalize=True)*100)\n",
    "    sns.countplot( pd.Series( plot_dict[str(counts)]).sort_values() )\n",
    "    plt.title(cname)\n",
    "    plt.tick_params(axis='x', rotation=20)\n",
    "    plt.show()"
   ]
  },
  {
   "cell_type": "code",
   "execution_count": 52,
   "id": "d7d4d74d",
   "metadata": {},
   "outputs": [
    {
     "data": {
      "text/plain": [
       "Amazon.in       219\n",
       "Flipkart.com    127\n",
       "Myntra.com       76\n",
       "Paytm.com        44\n",
       "snapdeal.com     11\n",
       "dtype: int64"
      ]
     },
     "execution_count": 52,
     "metadata": {},
     "output_type": "execute_result"
    }
   ],
   "source": [
    "pd.Series(plot_dict['5']).value_counts()"
   ]
  },
  {
   "cell_type": "markdown",
   "id": "b69f81df",
   "metadata": {},
   "source": [
    "##### "
   ]
  },
  {
   "cell_type": "markdown",
   "id": "cadd2d43",
   "metadata": {},
   "source": [
    "In Decision making we can see that the most recommended Web site is AMAZON! But Why?\n",
    "\n",
    "Analysis about these Websites with respect to the five factors:</br>\n",
    "**1)System Quality : Amazon </br>\n",
    "2)Information quality : Amazon</br>\n",
    "3)Product Information : Amazon</br>\n",
    "4)Trust : Amazon</br>\n",
    "5)Net benefit : Amazon</br>**"
   ]
  }
 ],
 "metadata": {
  "colab": {
   "collapsed_sections": [
    "f63abb63"
   ],
   "name": "customer_retention_20220404.ipynb",
   "provenance": [],
   "toc_visible": true
  },
  "kernelspec": {
   "display_name": "Python 3 (ipykernel)",
   "language": "python",
   "name": "python3"
  },
  "language_info": {
   "codemirror_mode": {
    "name": "ipython",
    "version": 3
   },
   "file_extension": ".py",
   "mimetype": "text/x-python",
   "name": "python",
   "nbconvert_exporter": "python",
   "pygments_lexer": "ipython3",
   "version": "3.9.7"
  }
 },
 "nbformat": 4,
 "nbformat_minor": 5
}
